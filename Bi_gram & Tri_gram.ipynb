{
 "cells": [
  {
   "cell_type": "code",
   "execution_count": 2,
   "id": "8fb1a1f7-ba22-4535-9ab5-57e981bc5213",
   "metadata": {},
   "outputs": [],
   "source": [
    "import nltk\n",
    "from nltk import bigrams, trigrams\n",
    "from collections import defaultdict"
   ]
  },
  {
   "cell_type": "code",
   "execution_count": 3,
   "id": "6874c4ae-e387-4138-92b3-a8f311c4b693",
   "metadata": {},
   "outputs": [],
   "source": [
    "example_text = \"\"\"16/09/2004 Set in Varanasi, Gopal, Aarti and Raghav have been best friends since school. As teenagers, Gopal has fallen in love with Aarti, often pushing to be more than friends. Aarti consistently rebuffs, expressing that she values their friendship and isn't ready for a relationship with anybody.\n",
    "\n",
    "Gopal and Raghav are both studying to get into engineering colleges, but Gopal gets a low rank in the All India Engineering Entrance Exams, while Raghav is among the toppers. To help improve his rank, Gopal moves to Kota alone to join reputed coaching classes to resit the exam the following year. Raghav goes on to pass the IIT entrance exam as well, and starts attending Banaras Hindu University.\n",
    "\n",
    "During Gopal's absence in Kota, Aarti and Raghav develop feelings for each other, and Aarti tells Gopal about her relationship when they chat online. Gopal is heartbroken and lashes out at her, causing them to lose touch briefly and Gopal to fall behind in his course. When they rekindle their friendship, Gopal begins to study hard again, but gets a low rank once more after sitting the AIEEE exam for the second time. Gopal returns home to Varanasi, where his father dies shortly after learning of his low rank. Meanwhile, Raghav and Aarti's relationship is flourishing, and Raghav has found his passion in activism and being on his university's newspaper committee.\"\"\"\n"
   ]
  },
  {
   "cell_type": "code",
   "execution_count": 4,
   "id": "0eca8160-8f8e-4099-9691-a778b3bbfd89",
   "metadata": {},
   "outputs": [],
   "source": [
    "words = nltk.word_tokenize(example_text)"
   ]
  },
  {
   "cell_type": "code",
   "execution_count": 14,
   "id": "dcde7866-927d-496a-a1b9-575c2f7d2280",
   "metadata": {},
   "outputs": [],
   "source": [
    "def predict_next_word(w1, w2):\n",
    "    next_word = tri_model[w1, w2]\n",
    "    if next_word:\n",
    "        predicted_word = max(next_word, key=next_word.get)  # Choose the most likely next word\n",
    "        return predicted_word\n",
    "    else:\n",
    "        return \"No prediction available\"\n",
    "\n",
    "def predict_next_word_bigram(w1):\n",
    "    next_word = bi_model[w1]\n",
    "    if next_word:\n",
    "        predicted_word = max(next_word, key=next_word.get)  # Choose the most likely next word\n",
    "        return predicted_word\n",
    "    else:\n",
    "        return \"No prediction available\""
   ]
  },
  {
   "cell_type": "code",
   "execution_count": 6,
   "id": "a63f9694-93b2-42eb-900b-b2d6214e1242",
   "metadata": {},
   "outputs": [],
   "source": [
    "bi_grams = list(bigrams(words))\n",
    "tri_grams = list(trigrams(words))"
   ]
  },
  {
   "cell_type": "code",
   "execution_count": 10,
   "id": "7ce71dd7-541f-41dc-91e6-e9bfbc99453d",
   "metadata": {},
   "outputs": [],
   "source": [
    "tri_model = defaultdict(lambda: defaultdict(lambda: 0))\n",
    "bi_model = defaultdict(lambda: defaultdict(lambda: 0))"
   ]
  },
  {
   "cell_type": "code",
   "execution_count": 11,
   "id": "4843f364-fe80-4999-be35-fd0fd04a42af",
   "metadata": {},
   "outputs": [],
   "source": [
    "for w1, w2 in bi_grams:\n",
    "    bi_model[w1][w2] += 1\n",
    "\n",
    "\n",
    "for w1, w2, w3 in tri_grams:\n",
    "    tri_model[(w1, w2)][w3] += 1"
   ]
  },
  {
   "cell_type": "code",
   "execution_count": 12,
   "id": "a19ed3f8-6098-4760-9b4c-3add9d26f5d9",
   "metadata": {},
   "outputs": [],
   "source": [
    "for w1 in bi_model:\n",
    "    total_count = float(sum(bi_model[w1].values()))\n",
    "    for w2 in bi_model[w1]:\n",
    "        bi_model[w1][w2] /= total_count\n",
    "\n",
    "\n",
    "for w1_w2 in tri_model:\n",
    "    total_count = float(sum(tri_model[w1_w2].values()))\n",
    "    for w3 in tri_model[w1_w2]:\n",
    "        tri_model[w1_w2][w3] /= total_count"
   ]
  },
  {
   "cell_type": "code",
   "execution_count": 15,
   "id": "af21ce35-e333-4a73-b331-de0fb1ab999d",
   "metadata": {},
   "outputs": [
    {
     "name": "stdout",
     "output_type": "stream",
     "text": [
      "Next Word: rank\n",
      "Next Word: engineering\n"
     ]
    }
   ],
   "source": [
    "print(\"Next Word:\", predict_next_word_bigram('his'))\n",
    "\n",
    "print(\"Next Word:\", predict_next_word('get', 'into'))"
   ]
  },
  {
   "cell_type": "code",
   "execution_count": null,
   "id": "e65d40b5-3071-4109-97b8-111fc468a0b7",
   "metadata": {},
   "outputs": [],
   "source": []
  }
 ],
 "metadata": {
  "kernelspec": {
   "display_name": "Python 3 (ipykernel)",
   "language": "python",
   "name": "python3"
  },
  "language_info": {
   "codemirror_mode": {
    "name": "ipython",
    "version": 3
   },
   "file_extension": ".py",
   "mimetype": "text/x-python",
   "name": "python",
   "nbconvert_exporter": "python",
   "pygments_lexer": "ipython3",
   "version": "3.12.5"
  }
 },
 "nbformat": 4,
 "nbformat_minor": 5
}
