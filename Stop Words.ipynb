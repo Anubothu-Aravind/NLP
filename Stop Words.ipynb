{
 "cells": [
  {
   "cell_type": "code",
   "execution_count": 27,
   "id": "331ddb6c-7d8e-44df-a8a3-80045765e092",
   "metadata": {},
   "outputs": [],
   "source": [
    "from nltk.corpus import stopwords,wordnet\n",
    "from nltk.tokenize import word_tokenize\n",
    "from nltk.stem import WordNetLemmatizer,PorterStemmer\n",
    "from nltk import pos_tag"
   ]
  },
  {
   "cell_type": "code",
   "execution_count": 4,
   "id": "72428b6b-6736-4e50-81e7-ce65b25e4f89",
   "metadata": {},
   "outputs": [],
   "source": [
    "example_text = \"\"\"16/09/2004 Set in Varanasi, Gopal, Aarti and Raghav have been best friends since school. As teenagers, Gopal has fallen in love with Aarti, often pushing to be more than friends. Aarti consistently rebuffs, expressing that she values their friendship and isn't ready for a relationship with anybody.\n",
    "\n",
    "Gopal and Raghav are both studying to get into engineering colleges, but Gopal gets a low rank in the All India Engineering Entrance Exams, while Raghav is among the toppers. To help improve his rank, Gopal moves to Kota alone to join reputed coaching classes to resit the exam the following year. Raghav goes on to pass the IIT entrance exam as well, and starts attending Banaras Hindu University.\n",
    "\n",
    "During Gopal's absence in Kota, Aarti and Raghav develop feelings for each other, and Aarti tells Gopal about her relationship when they chat online. Gopal is heartbroken and lashes out at her, causing them to lose touch briefly and Gopal to fall behind in his course. When they rekindle their friendship, Gopal begins to study hard again, but gets a low rank once more after sitting the AIEEE exam for the second time. Gopal returns home to Varanasi, where his father dies shortly after learning of his low rank. Meanwhile, Raghav and Aarti's relationship is flourishing, and Raghav has found his passion in activism and being on his university's newspaper committee.\n",
    "\"\"\""
   ]
  },
  {
   "cell_type": "code",
   "execution_count": 5,
   "id": "615140e2-f917-43bd-a459-40b40e9d176c",
   "metadata": {},
   "outputs": [],
   "source": [
    "words = word_tokenize(example_text)"
   ]
  },
  {
   "cell_type": "code",
   "execution_count": 13,
   "id": "c90978d9-ec97-4a36-b926-dd9f8672be57",
   "metadata": {},
   "outputs": [],
   "source": [
    "stop_words = set(stopwords.words(\"english\"))"
   ]
  },
  {
   "cell_type": "code",
   "execution_count": 14,
   "id": "51b061ad-e35d-4df5-a8b8-09c3f12ac3ae",
   "metadata": {},
   "outputs": [],
   "source": [
    "filtered_words = [word for word in words if not word in stop_words]"
   ]
  },
  {
   "cell_type": "code",
   "execution_count": 15,
   "id": "72a9b644-ba06-4e8e-8319-6b2112eeff1a",
   "metadata": {
    "scrolled": true
   },
   "outputs": [
    {
     "data": {
      "text/plain": [
       "['16/09/2004',\n",
       " 'Set',\n",
       " 'Varanasi',\n",
       " ',',\n",
       " 'Gopal',\n",
       " ',',\n",
       " 'Aarti',\n",
       " 'Raghav',\n",
       " 'best',\n",
       " 'friends',\n",
       " 'since',\n",
       " 'school',\n",
       " '.',\n",
       " 'As',\n",
       " 'teenagers',\n",
       " ',',\n",
       " 'Gopal',\n",
       " 'fallen',\n",
       " 'love',\n",
       " 'Aarti',\n",
       " ',',\n",
       " 'often',\n",
       " 'pushing',\n",
       " 'friends',\n",
       " '.',\n",
       " 'Aarti',\n",
       " 'consistently',\n",
       " 'rebuffs',\n",
       " ',',\n",
       " 'expressing',\n",
       " 'values',\n",
       " 'friendship',\n",
       " \"n't\",\n",
       " 'ready',\n",
       " 'relationship',\n",
       " 'anybody',\n",
       " '.',\n",
       " 'Gopal',\n",
       " 'Raghav',\n",
       " 'studying',\n",
       " 'get',\n",
       " 'engineering',\n",
       " 'colleges',\n",
       " ',',\n",
       " 'Gopal',\n",
       " 'gets',\n",
       " 'low',\n",
       " 'rank',\n",
       " 'All',\n",
       " 'India',\n",
       " 'Engineering',\n",
       " 'Entrance',\n",
       " 'Exams',\n",
       " ',',\n",
       " 'Raghav',\n",
       " 'among',\n",
       " 'toppers',\n",
       " '.',\n",
       " 'To',\n",
       " 'help',\n",
       " 'improve',\n",
       " 'rank',\n",
       " ',',\n",
       " 'Gopal',\n",
       " 'moves',\n",
       " 'Kota',\n",
       " 'alone',\n",
       " 'join',\n",
       " 'reputed',\n",
       " 'coaching',\n",
       " 'classes',\n",
       " 'resit',\n",
       " 'exam',\n",
       " 'following',\n",
       " 'year',\n",
       " '.',\n",
       " 'Raghav',\n",
       " 'goes',\n",
       " 'pass',\n",
       " 'IIT',\n",
       " 'entrance',\n",
       " 'exam',\n",
       " 'well',\n",
       " ',',\n",
       " 'starts',\n",
       " 'attending',\n",
       " 'Banaras',\n",
       " 'Hindu',\n",
       " 'University',\n",
       " '.',\n",
       " 'During',\n",
       " 'Gopal',\n",
       " \"'s\",\n",
       " 'absence',\n",
       " 'Kota',\n",
       " ',',\n",
       " 'Aarti',\n",
       " 'Raghav',\n",
       " 'develop',\n",
       " 'feelings',\n",
       " ',',\n",
       " 'Aarti',\n",
       " 'tells',\n",
       " 'Gopal',\n",
       " 'relationship',\n",
       " 'chat',\n",
       " 'online',\n",
       " '.',\n",
       " 'Gopal',\n",
       " 'heartbroken',\n",
       " 'lashes',\n",
       " ',',\n",
       " 'causing',\n",
       " 'lose',\n",
       " 'touch',\n",
       " 'briefly',\n",
       " 'Gopal',\n",
       " 'fall',\n",
       " 'behind',\n",
       " 'course',\n",
       " '.',\n",
       " 'When',\n",
       " 'rekindle',\n",
       " 'friendship',\n",
       " ',',\n",
       " 'Gopal',\n",
       " 'begins',\n",
       " 'study',\n",
       " 'hard',\n",
       " ',',\n",
       " 'gets',\n",
       " 'low',\n",
       " 'rank',\n",
       " 'sitting',\n",
       " 'AIEEE',\n",
       " 'exam',\n",
       " 'second',\n",
       " 'time',\n",
       " '.',\n",
       " 'Gopal',\n",
       " 'returns',\n",
       " 'home',\n",
       " 'Varanasi',\n",
       " ',',\n",
       " 'father',\n",
       " 'dies',\n",
       " 'shortly',\n",
       " 'learning',\n",
       " 'low',\n",
       " 'rank',\n",
       " '.',\n",
       " 'Meanwhile',\n",
       " ',',\n",
       " 'Raghav',\n",
       " 'Aarti',\n",
       " \"'s\",\n",
       " 'relationship',\n",
       " 'flourishing',\n",
       " ',',\n",
       " 'Raghav',\n",
       " 'found',\n",
       " 'passion',\n",
       " 'activism',\n",
       " 'university',\n",
       " \"'s\",\n",
       " 'newspaper',\n",
       " 'committee',\n",
       " '.']"
      ]
     },
     "execution_count": 15,
     "metadata": {},
     "output_type": "execute_result"
    }
   ],
   "source": [
    "filtered_words"
   ]
  },
  {
   "cell_type": "markdown",
   "id": "13b3598a-0e04-437e-b02d-f09e4da1d953",
   "metadata": {},
   "source": [
    "lemmatizer and stop words"
   ]
  },
  {
   "cell_type": "code",
   "execution_count": 17,
   "id": "e1a2f0b6-6fe5-4a76-877d-8ff69eacf559",
   "metadata": {},
   "outputs": [],
   "source": [
    "lemmatizer = WordNetLemmatizer()"
   ]
  },
  {
   "cell_type": "code",
   "execution_count": 18,
   "id": "8e52c9fe-e8b1-480b-a12e-62b66f334734",
   "metadata": {},
   "outputs": [],
   "source": [
    "def get_wordnet_pos(treebank_tag):\n",
    "    if treebank_tag.startswith('J'):\n",
    "        return wordnet.ADJ\n",
    "    elif treebank_tag.startswith('V'):\n",
    "        return wordnet.VERB\n",
    "    elif treebank_tag.startswith('N'):\n",
    "        return wordnet.NOUN\n",
    "    elif treebank_tag.startswith('R'):\n",
    "        return wordnet.ADV\n",
    "    else:\n",
    "        return None"
   ]
  },
  {
   "cell_type": "code",
   "execution_count": 20,
   "id": "cc994ec9-8be2-473e-953f-3b2b251cd00c",
   "metadata": {},
   "outputs": [],
   "source": [
    "pos_tags = pos_tag(words)\n",
    "# pos_tags"
   ]
  },
  {
   "cell_type": "code",
   "execution_count": 23,
   "id": "49af23ac-4146-491f-92f9-4fefea1e88bb",
   "metadata": {},
   "outputs": [],
   "source": [
    "lemmatized_non_stop_words = [lemmatizer.lemmatize(word, pos=get_wordnet_pos(pos) or wordnet.NOUN) \n",
    "                             for word, pos in pos_tags if word.lower() not in stop_words]"
   ]
  },
  {
   "cell_type": "code",
   "execution_count": 26,
   "id": "e1ef31d2-363c-4162-a0c8-0504fb60e886",
   "metadata": {},
   "outputs": [
    {
     "name": "stdout",
     "output_type": "stream",
     "text": [
      "Lemmatized (excluding stop words): ['16/09/2004', 'Set', 'Varanasi', ',', 'Gopal', ',', 'Aarti', 'Raghav', 'best', 'friend', 'since', 'school', '.', 'teenager', ',', 'Gopal', 'fall', 'love', 'Aarti', ',', 'often', 'push', 'friend', '.', 'Aarti', 'consistently', 'rebuff', ',', 'express', 'value', 'friendship', \"n't\", 'ready', 'relationship', 'anybody', '.', 'Gopal', 'Raghav', 'study', 'get', 'engineering', 'college', ',', 'Gopal', 'get', 'low', 'rank', 'India', 'Engineering', 'Entrance', 'Exams', ',', 'Raghav', 'among', 'topper', '.', 'help', 'improve', 'rank', ',', 'Gopal', 'move', 'Kota', 'alone', 'join', 'reputed', 'coaching', 'class', 'resit', 'exam', 'following', 'year', '.', 'Raghav', 'go', 'pass', 'IIT', 'entrance', 'exam', 'well', ',', 'start', 'attend', 'Banaras', 'Hindu', 'University', '.', 'Gopal', \"'s\", 'absence', 'Kota', ',', 'Aarti', 'Raghav', 'develop', 'feeling', ',', 'Aarti', 'tell', 'Gopal', 'relationship', 'chat', 'online', '.', 'Gopal', 'heartbroken', 'lash', ',', 'cause', 'lose', 'touch', 'briefly', 'Gopal', 'fall', 'behind', 'course', '.', 'rekindle', 'friendship', ',', 'Gopal', 'begin', 'study', 'hard', ',', 'get', 'low', 'rank', 'sit', 'AIEEE', 'exam', 'second', 'time', '.', 'Gopal', 'return', 'home', 'Varanasi', ',', 'father', 'die', 'shortly', 'learn', 'low', 'rank', '.', 'Meanwhile', ',', 'Raghav', 'Aarti', \"'s\", 'relationship', 'flourish', ',', 'Raghav', 'find', 'passion', 'activism', 'university', \"'s\", 'newspaper', 'committee', '.']\n"
     ]
    }
   ],
   "source": [
    "print(\"Lemmatized (excluding stop words):\", lemmatized_non_stop_words)"
   ]
  },
  {
   "cell_type": "markdown",
   "id": "640f2b74-22be-49de-b252-f9469b8fd185",
   "metadata": {},
   "source": [
    "Stop Words Stemming"
   ]
  },
  {
   "cell_type": "code",
   "execution_count": 28,
   "id": "c222985b-1083-496f-9c81-3cbe47905917",
   "metadata": {},
   "outputs": [],
   "source": [
    "stemmer = PorterStemmer()"
   ]
  },
  {
   "cell_type": "code",
   "execution_count": 29,
   "id": "44ed3a74-4650-46f6-9a64-6b653bf6f809",
   "metadata": {},
   "outputs": [
    {
     "name": "stdout",
     "output_type": "stream",
     "text": [
      "Stemmed (excluding stop words): ['16/09/2004', 'set', 'varanasi', ',', 'gopal', ',', 'aarti', 'raghav', 'best', 'friend', 'sinc', 'school', '.', 'teenag', ',', 'gopal', 'fallen', 'love', 'aarti', ',', 'often', 'push', 'friend', '.', 'aarti', 'consist', 'rebuff', ',', 'express', 'valu', 'friendship', \"n't\", 'readi', 'relationship', 'anybodi', '.', 'gopal', 'raghav', 'studi', 'get', 'engin', 'colleg', ',', 'gopal', 'get', 'low', 'rank', 'india', 'engin', 'entranc', 'exam', ',', 'raghav', 'among', 'topper', '.', 'help', 'improv', 'rank', ',', 'gopal', 'move', 'kota', 'alon', 'join', 'reput', 'coach', 'class', 'resit', 'exam', 'follow', 'year', '.', 'raghav', 'goe', 'pass', 'iit', 'entranc', 'exam', 'well', ',', 'start', 'attend', 'banara', 'hindu', 'univers', '.', 'gopal', \"'s\", 'absenc', 'kota', ',', 'aarti', 'raghav', 'develop', 'feel', ',', 'aarti', 'tell', 'gopal', 'relationship', 'chat', 'onlin', '.', 'gopal', 'heartbroken', 'lash', ',', 'caus', 'lose', 'touch', 'briefli', 'gopal', 'fall', 'behind', 'cours', '.', 'rekindl', 'friendship', ',', 'gopal', 'begin', 'studi', 'hard', ',', 'get', 'low', 'rank', 'sit', 'aieee', 'exam', 'second', 'time', '.', 'gopal', 'return', 'home', 'varanasi', ',', 'father', 'die', 'shortli', 'learn', 'low', 'rank', '.', 'meanwhil', ',', 'raghav', 'aarti', \"'s\", 'relationship', 'flourish', ',', 'raghav', 'found', 'passion', 'activ', 'univers', \"'s\", 'newspap', 'committe', '.']\n"
     ]
    }
   ],
   "source": [
    "stemmed_non_stop_words = [stemmer.stem(word) for word in words if word.lower() not in stop_words]\n",
    "print(\"Stemmed (excluding stop words):\", stemmed_non_stop_words)"
   ]
  }
 ],
 "metadata": {
  "kernelspec": {
   "display_name": "Python 3 (ipykernel)",
   "language": "python",
   "name": "python3"
  },
  "language_info": {
   "codemirror_mode": {
    "name": "ipython",
    "version": 3
   },
   "file_extension": ".py",
   "mimetype": "text/x-python",
   "name": "python",
   "nbconvert_exporter": "python",
   "pygments_lexer": "ipython3",
   "version": "3.12.5"
  }
 },
 "nbformat": 4,
 "nbformat_minor": 5
}
